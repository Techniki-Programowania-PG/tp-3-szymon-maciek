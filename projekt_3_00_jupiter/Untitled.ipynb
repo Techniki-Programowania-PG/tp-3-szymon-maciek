{
 "cells": [
  {
   "cell_type": "markdown",
   "id": "4bdecdeb-fcbe-4b87-8a78-990136a7bc83",
   "metadata": {},
   "source": [
    "Projekt Techniki Programoania 3 Szymon Pluta s203618 Maciej Pankau s203894"
   ]
  },
  {
   "cell_type": "markdown",
   "id": "a9a60a30-cb11-4c0a-90bc-ed352a9b8317",
   "metadata": {},
   "source": [
    "Import biboteki"
   ]
  },
  {
   "cell_type": "code",
   "execution_count": null,
   "id": "a3401ea9-889f-40c7-bdbd-0d7dac52cc54",
   "metadata": {},
   "outputs": [],
   "source": [
    "import _core"
   ]
  },
  {
   "cell_type": "markdown",
   "id": "c4feeb3d-5941-4c6a-99c4-56dfdcbb6c5e",
   "metadata": {},
   "source": [
    "Zmienna globalna SINUS"
   ]
  },
  {
   "cell_type": "code",
   "execution_count": null,
   "id": "4b8d0768-12eb-465f-845a-43bf4acbf9a4",
   "metadata": {},
   "outputs": [],
   "source": [
    "SINUS=_core.sinus(1, 0, 6.28, 500, 1)\n"
   ]
  },
  {
   "cell_type": "markdown",
   "id": "24d68c59-fd9f-4098-a03a-edc763dc5625",
   "metadata": {},
   "source": [
    "Zmienna globalna DFT "
   ]
  },
  {
   "cell_type": "code",
   "execution_count": null,
   "id": "2c9d3da3-31f1-4b3a-95b1-cb4f21994893",
   "metadata": {},
   "outputs": [],
   "source": [
    "DFT=_core.DFT(SINUS, 1.2, 6.28, 500,)"
   ]
  },
  {
   "cell_type": "markdown",
   "id": "ca8d6b7a-df58-41f1-b166-295f338732c2",
   "metadata": {},
   "source": [
    "Odwrotna transformata (wywołanie funkcji)"
   ]
  },
  {
   "cell_type": "code",
   "execution_count": null,
   "id": "5a5fb114-c505-43ec-a644-f39bd2b9c815",
   "metadata": {},
   "outputs": [],
   "source": [
    "_core.odwr_transformata(DFT, 1.2,6.28, 500)"
   ]
  },
  {
   "cell_type": "markdown",
   "id": "ca617db0-644d-499f-84af-27b9806b01e1",
   "metadata": {},
   "source": [
    "dft (wywołanie funkcji)"
   ]
  },
  {
   "cell_type": "code",
   "execution_count": null,
   "id": "9b25800d-5edc-4b14-b5fa-86507003a00b",
   "metadata": {},
   "outputs": [],
   "source": [
    "_core.DFT(SINUS, 1.2, 6.28, 500,)"
   ]
  },
  {
   "cell_type": "markdown",
   "id": "981b1ed5-90ab-4a14-8421-f271e6698772",
   "metadata": {},
   "source": [
    "sinus (wywołanie funkcji)"
   ]
  },
  {
   "cell_type": "code",
   "execution_count": null,
   "id": "fb984973-3ae5-47fc-b6f2-5dae7328b7f0",
   "metadata": {},
   "outputs": [],
   "source": [
    "_core.sinus(1, 0, 6.28, 500, 1)"
   ]
  },
  {
   "cell_type": "markdown",
   "id": "f874b6d6-14f8-4b2c-9124-158c73510f34",
   "metadata": {},
   "source": [
    "cosinus (wywołanie funkcji)"
   ]
  },
  {
   "cell_type": "code",
   "execution_count": null,
   "id": "9eed6699-a569-4283-80a8-a17074e4a96c",
   "metadata": {},
   "outputs": [],
   "source": [
    "_core.cosinus(1, 0, 6.28, 500, 1)"
   ]
  },
  {
   "cell_type": "markdown",
   "id": "4d8c123b-6c9f-41b6-9597-6939bb916537",
   "metadata": {},
   "source": [
    "piłokształtny (wywołanie funkcji)"
   ]
  },
  {
   "cell_type": "code",
   "execution_count": null,
   "id": "6e6d936f-81c8-43b5-845d-9e51f10600d1",
   "metadata": {},
   "outputs": [],
   "source": [
    "_core.piloksztautna(1, 0, 6.28, 500, 1)"
   ]
  },
  {
   "cell_type": "markdown",
   "id": "a9f7d072-1f88-4df5-af12-3ee6bb241ac5",
   "metadata": {},
   "source": [
    "prostokątny (wywołanie funkcji)"
   ]
  },
  {
   "cell_type": "code",
   "execution_count": null,
   "id": "8449b038-6b90-4b0a-97d2-9dd650b8ba18",
   "metadata": {},
   "outputs": [],
   "source": [
    "_core.prostokatny(1, 0, 6.28, 500, 1)"
   ]
  }
 ],
 "metadata": {
  "kernelspec": {
   "display_name": "Python 3 (ipykernel)",
   "language": "python",
   "name": "python3"
  },
  "language_info": {
   "codemirror_mode": {
    "name": "ipython",
    "version": 3
   },
   "file_extension": ".py",
   "mimetype": "text/x-python",
   "name": "python",
   "nbconvert_exporter": "python",
   "pygments_lexer": "ipython3",
   "version": "3.13.5"
  }
 },
 "nbformat": 4,
 "nbformat_minor": 5
}
